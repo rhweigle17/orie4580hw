{
  "cells": [
    {
      "cell_type": "markdown",
      "metadata": {
        "id": "KdHI8a1S9iUn"
      },
      "source": [
        "# ORIE 4580/5580/5581 Assignment 3\n",
        "\n",
        "#### Students: S. Ulam (su001) and J. von Neuman (jvn001)\n",
        "\n",
        "### Github link: https://github.com/rhweigle17/orie4580hw\n",
        "\n",
        "(**Please replace this with your own link!**)"
      ]
    },
    {
      "cell_type": "markdown",
      "metadata": {
        "id": "SWIW16cwI0bB"
      },
      "source": [
        "### Instructions\n",
        "\n",
        "\n",
        "* Due Thursday September 25, at 11.59pm on Gradescope.\n",
        "* Assignment .ipynb files available for download on [Canvas](https://canvas.cornell.edu/courses/80773#:~:text=Assignments-,Assignments,-Assignments%20module%20publish).\n",
        "* Do all your work in provided notebook (text answers typeset in markdown; show all required code and generate plots inline), and then generate and submit a pdf.\n",
        "* Ideally do assignments in groups of 2, and submit a single pdf with both names\n",
        "* Please show your work and clearly mark your answers.\n",
        "* You can use any code fragments given in class, found online (for example, on StackOverflow), or generated via Gemini/Claude/ChatGPT (you are encouraged to use these for first drafts) **with proper referencing**.\n",
        "* You can also discuss with others (again, please reference them if you do so); but you must write your final answers on your own as a team.\n",
        "\n",
        "\n",
        "\n",
        "\n",
        "### Suggested reading\n",
        "\n",
        "Chapters 7 (you can skim through this), and chapters 8 and 9 of [Introduction to Probability](https://chance.dartmouth.edu/teaching_aids/books_articles/probability_book/book.html) by Grinstead and Snell.\n",
        "\n",
        "Chapter 3 and chapter 4 (up to section 4.5) of [Simulation by Ross](https://catalog.library.cornell.edu/catalog/12745977)."
      ]
    },
    {
      "cell_type": "code",
      "execution_count": null,
      "metadata": {
        "id": "upFYbOmHI4Uv"
      },
      "outputs": [],
      "source": [
        "#importing necessary packages\n",
        "import numpy as np\n",
        "import matplotlib.pyplot as plt\n",
        "import scipy.stats\n",
        "%matplotlib inline"
      ]
    },
    {
      "cell_type": "markdown",
      "metadata": {
        "id": "lAy475sN9iUs"
      },
      "source": [
        "<hr><hr>\n",
        "\n",
        "## Question 1: Combining LCGs (20 points)\n",
        "\n",
        "In order to avoid biases, simulations should not use anywhere near the full period of an LCG (otherwise, the random sequence repeats\\ldots). For example, a typical traffic simulator may have $10,000$ vehicles, each experiencing thousands of random disturbances, thus needing around $10^7$ random samples per replication -- for this, an LCG using $m=2^{31}-1\\approx 2\\times 10^9$ is insufficient, as after $100$ replications the sequences get correlated.\n",
        "\n",
        "One method to combine multiple LCGs to obtain a generator with a longer period is to add a smaller period LCG to it. For example, suppose we have two generators $X_{n+1}  =  (a_1 X_n) \\mbox{ mod } m_1$ and $Y_{n+1}  =  (a_2 Y_n) \\mbox{ mod } m_2$, with $m_1>m_2$. We can derive a combined generator by setting $Z_n  =  (X_n + Y_n) \\mbox{ mod } m_1$. If properly designed, the resulting period can be on the order of $m_1m_2$. We will now study a small example to see how this works.\n"
      ]
    },
    {
      "cell_type": "markdown",
      "metadata": {
        "id": "-geWMEJp9iUt"
      },
      "source": [
        "<hr>\n",
        "\n",
        "**(a)** Consider two LCGs, $x_{n+1} = (5 x_n) \\mod 16$ and $y_{n+1} = (2 y_n) \\mod 7$. Starting both with seed $x_0 = y_0 = 1$, plot the sequences $x_n, y_n$ using the clock visualization introduced in class (separate plot for each sequence; you can use and modify the code in Demo-PRNGs.ipynb on Canvas).\n",
        "\n",
        "<hr>"
      ]
    },
    {
      "cell_type": "code",
      "execution_count": null,
      "metadata": {
        "id": "5jsoc-t6D-Q7"
      },
      "outputs": [],
      "source": [
        "# Functions to visualize LCG sequence on clock (see demo notebook)\n",
        "def plot_clock_face(m, fig, annotate=False):\n",
        "    \"\"\"\n",
        "    Plot points on a unit circle representing the LCG sequence on a clock face.\n",
        "\n",
        "    Parameters:\n",
        "    m (int): The modulus value for the LCG sequence.\n",
        "    fig (matplotlib.figure.Figure): The figure object to draw on.\n",
        "    annotate (bool): Whether to annotate points with their index.\n",
        "\n",
        "    Returns:\n",
        "    None\n",
        "    \"\"\"\n",
        "    # Plot m points on the unit circle\n",
        "    for i in range(m):\n",
        "        theta = 2.0 * np.pi * i / m\n",
        "        plt.plot(np.sin(theta), np.cos(theta), 'rs', markersize = 10)\n",
        "        if annotate:\n",
        "            plt.annotate(str(i), (np.pi/2 - theta, 1.05), xycoords='polar')\n",
        "\n",
        "def plot_clock_path(m, x, fig, color='y'):\n",
        "    \"\"\"\n",
        "    Plot the path of an LCG sequence on a clock face.\n",
        "\n",
        "    Parameters:\n",
        "    m (int): The modulus value for the LCG sequence.\n",
        "    x (numpy.ndarray): The LCG sequence.\n",
        "    fig (matplotlib.figure.Figure): The figure object to draw on.\n",
        "    color (str): The color for the path.\n",
        "\n",
        "    Returns:\n",
        "    None\n",
        "    \"\"\"\n",
        "    # Plot the seed node\n",
        "    theta_0 = 2.0 * np.pi * (x[0] * (m + 1) - 1) / m\n",
        "    plt.plot(np.sin(theta_0), np.cos(theta_0), 'gs', markersize = 10)\n",
        "\n",
        "    # Plot the path of the LCG sequence\n",
        "    for i in range(len(x) - 1):\n",
        "        theta_start = 2.0 * np.pi * (x[i] * (m + 1) - 1) / m\n",
        "        theta_end = 2.0 * np.pi * (x[i + 1] * (m + 1) - 1) / m\n",
        "        x_start = np.sin(theta_start)\n",
        "        y_start = np.cos(theta_start)\n",
        "        del_x = np.sin(theta_end) - np.sin(theta_start)\n",
        "        del_y = np.cos(theta_end) - np.cos(theta_start)\n",
        "        if abs(del_x) > 0 or abs(del_y) > 0:\n",
        "            plt.arrow(x_start, y_start, del_x, del_y,\n",
        "                      length_includes_head=True, head_width=0.05, head_length=0.1, fc=color, ec=color)"
      ]
    },
    {
      "cell_type": "code",
      "execution_count": null,
      "metadata": {
        "id": "GRvFbLtFEC16"
      },
      "outputs": [],
      "source": [
        "# Function to generate pseudorandom sequence using LCG\n",
        "# Set default parameters to glibc specifications (see demo notebook)\n",
        "def LCG(n, m=2**31-1, a=1103515245, c=12345, seed=1):\n",
        "    \"\"\"\n",
        "    Generate a pseudorandom sequence using a Linear Congruential Generator (LCG).\n",
        "\n",
        "    Parameters:\n",
        "    n (int): The number of pseudorandom numbers to generate.\n",
        "    m (int): The modulus value (default is 2^31-1, following glibc specifications).\n",
        "    a (int): The multiplier value (default is 1103515245, following glibc specifications).\n",
        "    c (int): The increment value (default is 12345, following glibc specifications).\n",
        "    seed (int): The initial seed value (default is 1).\n",
        "\n",
        "    Returns:\n",
        "    numpy.ndarray: An array of pseudorandom numbers in the range [0, 1).\n",
        "    \"\"\"\n",
        "    # Initialize an array to store the generated pseudorandom numbers\n",
        "    output = np.zeros(n)\n",
        "\n",
        "    x = seed\n",
        "    for i in range(n):\n",
        "        # Calculate the pseudorandom number and normalize it to [0, 1)\n",
        "        output[i] = (x + 1.0) / (m + 1.0)\n",
        "\n",
        "        # Update the LCG state using the specified parameters\n",
        "        x = (a * x + c) % m\n",
        "\n",
        "    return output"
      ]
    },
    {
      "cell_type": "code",
      "execution_count": null,
      "metadata": {
        "id": "b2hOTeOyEEkI",
        "colab": {
          "base_uri": "https://localhost:8080/"
        },
        "outputId": "6775ecfd-3126-43e9-bc52-0c4ed8aa7212"
      },
      "outputs": [
        {
          "output_type": "stream",
          "name": "stdout",
          "text": [
            "[0.25  0.375 0.625 0.25  0.375 0.625 0.25  0.375]\n"
          ]
        }
      ],
      "source": [
        "# Ans\n",
        "x = LCG(17,16,5,0,1)\n",
        "y = LCG(8,7,2,0,1)"
      ]
    },
    {
      "cell_type": "code",
      "source": [
        "fig = plt.figure(figsize=(5,5))\n",
        "plot_clock_face(16,fig,annotate = True)\n",
        "plot_clock_path(16,x,fig)\n",
        "plt.axis('off')\n",
        "plt.show()"
      ],
      "metadata": {
        "colab": {
          "base_uri": "https://localhost:8080/",
          "height": 424
        },
        "id": "Z4nIi7-NIkV1",
        "outputId": "5a1cdab7-9b87-4b52-d9ae-2c434c5a833d"
      },
      "execution_count": null,
      "outputs": [
        {
          "output_type": "display_data",
          "data": {
            "text/plain": [
              "<Figure size 500x500 with 1 Axes>"
            ],
            "image/png": "[encoded data removed]"
          },
          "metadata": {}
        }
      ]
    },
    {
      "cell_type": "code",
      "source": [
        "fig = plt.figure(figsize=(5,5))\n",
        "\n",
        "plot_clock_face(7,fig,annotate = True)\n",
        "plot_clock_path(7,y,fig)\n",
        "plt.axis('off')\n",
        "plt.show()"
      ],
      "metadata": {
        "colab": {
          "base_uri": "https://localhost:8080/",
          "height": 424
        },
        "id": "flAj5zPgJRRd",
        "outputId": "fa7e7edf-69f6-4340-adaa-ebeaa9d23a9c"
      },
      "execution_count": null,
      "outputs": [
        {
          "output_type": "display_data",
          "data": {
            "text/plain": [
              "<Figure size 500x500 with 1 Axes>"
            ],
            "image/png": "[encoded data removed]"
          },
          "metadata": {}
        }
      ]
    },
    {
      "cell_type": "markdown",
      "metadata": {
        "id": "FDfX7mQz9iUv"
      },
      "source": [
        "<hr>\n",
        "\n",
        "**(b)** Next, define a combined LCG as $z_{n} = (x_n+y_n) \\mod 16$. Starting both the base LCGs with seed $x_0 = y_0 = 1$, plot the sequence $z_n$ using the clock visualization given in class.\n",
        "\n",
        "<hr>"
      ]
    },
    {
      "cell_type": "code",
      "execution_count": null,
      "metadata": {
        "id": "pLwpyLwZEIHk",
        "colab": {
          "base_uri": "https://localhost:8080/"
        },
        "outputId": "8c18752a-e3a1-4849-b6e3-43f1df19fa4e"
      },
      "outputs": [
        {
          "output_type": "stream",
          "name": "stdout",
          "text": [
            "[2, 7, 13, 14, 3, 9, 10, 15, 5, 6, 11, 1, 2]\n",
            "[0.17647058823529413, 0.47058823529411764, 0.8235294117647058, 0.8823529411764706, 0.23529411764705882, 0.5882352941176471, 0.6470588235294118, 0.9411764705882353, 0.35294117647058826, 0.4117647058823529, 0.7058823529411765, 0.11764705882352941, 0.17647058823529413]\n"
          ]
        }
      ],
      "source": [
        "x_seq = [1,5,9,13,1,5,9,13,1,5,9,13,1]\n",
        "y_seq = [1,2,4,1,2,4,1,2,4,1,2,4,1]\n",
        "z_seq = [(a + b) % 16 for a, b in zip(x_seq, y_seq)]\n",
        "z_norm = [(c+1)/(16+1) for c in z_seq]\n",
        "print(z_seq)\n",
        "print(z_norm)"
      ]
    },
    {
      "cell_type": "code",
      "source": [
        "fig = plt.figure(figsize=(5,5))\n",
        "\n",
        "plot_clock_face(16,fig,annotate = True)\n",
        "plot_clock_path(16,z_norm,fig)\n",
        "plt.axis('off')\n",
        "plt.show()"
      ],
      "metadata": {
        "colab": {
          "base_uri": "https://localhost:8080/",
          "height": 424
        },
        "id": "knu7_T0nN6gC",
        "outputId": "c60f2d6d-ad3b-460c-d9f5-5586ee8b74a0"
      },
      "execution_count": null,
      "outputs": [
        {
          "output_type": "display_data",
          "data": {
            "text/plain": [
              "<Figure size 500x500 with 1 Axes>"
            ],
            "image/png": "[encoded data removed]"
          },
          "metadata": {}
        }
      ]
    },
    {
      "cell_type": "markdown",
      "metadata": {
        "id": "W7FAnv8z9iUx"
      },
      "source": [
        "___\n",
        "**(c)** What are the periods of the pseudo-random sequences $x_n, y_n$ and $z_n$?\n",
        "___"
      ]
    },
    {
      "cell_type": "markdown",
      "metadata": {
        "id": "XAWLfsGGMO7X"
      },
      "source": [
        "### Ans.\n",
        "\n",
        "$x_n$ has a period of 4\n",
        "\n",
        "$y_n$ has a period of 3\n",
        "\n",
        "$z_n$ has a period of 12\n"
      ]
    },
    {
      "cell_type": "markdown",
      "metadata": {
        "id": "wmL74RyC9iUz"
      },
      "source": [
        "___\n",
        "___\n",
        "## Question 2: inverting cdfs (25 pts)\n",
        "\n",
        "In class, we defined $F^{-1}(y)$ for a continuous increasing cdf $F(x)$ as the unique $x$ such that $F(x) = y$ (for $y\\in[0,1]$). More generally, for any cdf $F$ we can use the inversion method based on its generalized inverse or *pseudoinverse*:\n",
        "\t$$F^{-1}(y) = \\inf\\{x|F(x)\\geq y\\}$$\n",
        "\t(where $\\inf$ denotes the \\href{https://en.wikipedia.org/wiki/Infimum_and_supremum}{infimum}; if you have not seen this before, treat it as minimum).\n"
      ]
    },
    {
      "cell_type": "markdown",
      "metadata": {
        "id": "k8gt9TWM9iU0"
      },
      "source": [
        "___\n",
        "**(a)** Find the pseudoinverse $F^{-1}(y)$ for the following mixed (discrete/continuous) cdf\n",
        "\t$$F(x)=\n",
        "\t\\begin{cases}\n",
        "\t0 & \\mbox{for $x < 0$}\\\\\n",
        "\tx & \\mbox{for $0 \\leq x < \\frac{1}{2}$}, \\\\\n",
        "\t\\frac{1}{2} & \\mbox{for $\\frac{1}{2}\\leq x < 1$}, \\\\\n",
        "\t1 & \\mbox{for $x\\geq 1$}\n",
        "\t \\end{cases}$$\n",
        "___"
      ]
    },
    {
      "cell_type": "markdown",
      "metadata": {
        "id": "h4Vtj9TBMr6A"
      },
      "source": [
        "### Ans.\n",
        "\n",
        "Using the definition of pseudoinverse and the definition for F(x), we can find the pseudoinverse $F^{-1}(y)$.\n",
        "\n",
        "**When 0$\\leq$y$<$1/2:**\n",
        "\n",
        "F(x)$\\geq$y -> x$\\geq$y\n",
        "\n",
        "so $F^{-1}(y)$ = y for 0$\\leq$y$\\leq$1/2\n",
        "\n",
        "**When y=1/2:**\n",
        "\n",
        "The smallest value of x such that y=1/2 and F(x)$\\geq$y  is 1/2. That is because F(1/2) = 1/2 $\\geq$ 1/2. No values of x less than 1/2 give F(x) = 1/2.\n",
        "\n",
        "**When 1/2$<$y$<$1:**\n",
        "\n",
        "The smallest value of x such that 1/2$<$y$<$1 and F(x)$\\geq$y is x=1, since 1/2 is not greater than the numbers in this range and there are no values of F(x) between 1/2 and 1.\n",
        "\n",
        "**When y=1:**\n",
        "\n",
        "The smallest value of x such that y=1 and F(x)$\\geq$y is x=1.\n",
        "\n",
        "Thus, the final pseudoinverse of F(x) is:\n",
        "\n",
        "$$\n",
        "F^{-1}(y) =\n",
        "\\begin{cases}\n",
        "y, & 0 \\le y < \\frac{1}{2} \\\\[2mm]\n",
        "\\frac{1}{2}, & y = \\frac{1}{2} \\\\[1mm]\n",
        "1, & \\frac{1}{2} < y \\le 1\n",
        "\\end{cases}\n",
        "$$\n"
      ]
    },
    {
      "cell_type": "markdown",
      "metadata": {
        "id": "z5IrvAkx9iU1"
      },
      "source": [
        "___\n",
        "**(b)** Use the above definition to get an inversion algorithm for the $Geometric(p)$ distribution (with pmf $p(k) = p(1-p)^{k-1}\\,\\forall\\,k\\in\\{1,2,3,\\ldots\\}$). Implement this, and generate and plot the histogram of 1000 samples from a $Geometric(0.42)$ distribution.\n",
        "(For this, it may be useful for you to first understand how the [scipy.stats](https://docs.scipy.org/doc/scipy/reference/stats.html) library works, and in particular, how it provides methods to compute various statistics for many different random variables, including the [geometric r.v.](https://docs.scipy.org/doc/scipy/reference/generated/scipy.stats.geom.html#scipy.stats.geom))\n",
        "___"
      ]
    },
    {
      "cell_type": "markdown",
      "source": [
        "$$F^{-1}(y) = \\inf\\{x|F(x)\\geq y\\}$$\n",
        "\n",
        "For geometric:\n",
        "\n",
        "$$F^{-1}(y) = \\inf\\{x|1-(1-p)^k\\geq y\\}$$\n",
        "\n",
        "We can then find k by:\n",
        "\n",
        "$$1-(1-p)^k\\geq y$$\n",
        "\n",
        "$$(1-p)^k\\leq 1- y$$\n",
        "\n",
        "$$ k\\geq ln(1- y) / ln(1-p)$$\n",
        "\n",
        "Since k is integer, we want the ceiling of that equation."
      ],
      "metadata": {
        "id": "sIaZehJfc96M"
      }
    },
    {
      "cell_type": "code",
      "execution_count": null,
      "metadata": {
        "id": "JQIulHgEJrwz",
        "colab": {
          "base_uri": "https://localhost:8080/",
          "height": 490
        },
        "outputId": "0a60f491-78e2-4e4e-d287-f7c073f95753"
      },
      "outputs": [
        {
          "output_type": "execute_result",
          "data": {
            "text/plain": [
              "Text(0, 0.5, 'Frequency')"
            ]
          },
          "metadata": {},
          "execution_count": 53
        },
        {
          "output_type": "display_data",
          "data": {
            "text/plain": [
              "<Figure size 640x480 with 1 Axes>"
            ],
            "image/png": "[encoded data removed]"
          },
          "metadata": {}
        }
      ],
      "source": [
        "p = 0.42\n",
        "n = 100\n",
        "\n",
        "y = np.random.uniform(0,1,n)\n",
        "geometric_samples = np.ceil(np.log(1-y) / np.log(1-p)).astype(int)\n",
        "plt.hist(geometric_samples, bins = range(1, max(geometric_samples)))\n",
        "plt.title(\"Histogram of 1000 Geometric(0.42) Samples\")\n",
        "plt.xlabel(\"k\")\n",
        "plt.ylabel('Frequency')"
      ]
    },
    {
      "cell_type": "markdown",
      "metadata": {
        "id": "TRn55xOT9iU3"
      },
      "source": [
        "___\n",
        "**(c)** The p.d.f. of the random variable $X$ is given by\n",
        "\t$$\n",
        "\tf(x) =\n",
        "\t\\begin{cases}\n",
        "\t\te^{x-2} & \\text{for }0 \\leq x \\leq 2, \\\\\n",
        "\t\te^{-x} & \\text{for }x > 2, \\\\\n",
        "\t\t0 & \\text{otherwise,}\n",
        "\t\\end{cases}\n",
        "\t$$\n",
        "\tDescribe and implement an inversion algorithm to generate samples of $X$. Generate 1,000 samples and plot a histogram. Compare the histogram and the p.d.f.\n"
      ]
    },
    {
      "cell_type": "markdown",
      "metadata": {
        "id": "dNmGPdu8OaiK"
      },
      "source": [
        "___\n",
        "\n",
        "### Ans."
      ]
    },
    {
      "cell_type": "markdown",
      "source": [
        "We want to compute the CDF $F(x)$.\n",
        "\n",
        "For $0 \\leq x \\leq 2$:\n",
        "\n",
        "$$\n",
        "F(x) = \\int_{0}^{x} e^{t-2}\\,dt\n",
        "= e^{x-2} - e^{-2}\n",
        "= \\frac{e^x - 1}{e^2}\n",
        "$$\n",
        "\n",
        "For $x > 2$:\n",
        "\n",
        "$$\n",
        "F(x) = \\int_{0}^{2} e^{t-2}\\,dt + \\int_{2}^{x} e^{-t}\\,dt\n",
        "= \\left(e^{2-2} - e^{-2}\\right) + \\left(e^{-2} - e^{-x}\\right)\n",
        "= 1 - e^{-x}\n",
        "$$\n"
      ],
      "metadata": {
        "id": "7FMdXKsxv7v-"
      }
    },
    {
      "cell_type": "markdown",
      "source": [
        "$$F^{-1}(y) = \\inf\\{x|F(x)\\geq y\\}$$\n",
        "\n",
        "F(2) = $1-e^{-2}$, so our boundary is at $1-e^{-2}$\n",
        "\n",
        "For $0 \\leq y \\leq 1-e^{-2}$:\n",
        "\n",
        "y = $\\frac{e^x - 1}{e^2}$ -> x = $ln(ye^2+1)$\n",
        "\n",
        "For $1-e^{-2} < y \\leq 1$:\n",
        "\n",
        "y = $1 - e^{-x}$ -> x = $-ln(1-y)$"
      ],
      "metadata": {
        "id": "FCZ9QWviwGBP"
      }
    },
    {
      "cell_type": "code",
      "execution_count": null,
      "metadata": {
        "id": "2bF1VUkGJEpI",
        "colab": {
          "base_uri": "https://localhost:8080/",
          "height": 490
        },
        "outputId": "b2fe13e0-f388-4319-bd28-1edf9a528ae6"
      },
      "outputs": [
        {
          "output_type": "execute_result",
          "data": {
            "text/plain": [
              "Text(0, 0.5, 'Frequency')"
            ]
          },
          "metadata": {},
          "execution_count": 105
        },
        {
          "output_type": "display_data",
          "data": {
            "text/plain": [
              "<Figure size 640x480 with 1 Axes>"
            ],
            "image/png": "[encoded data removed]"
          },
          "metadata": {}
        }
      ],
      "source": [
        "import math\n",
        "n = 1000\n",
        "y = np.random.uniform(0,1,n)\n",
        "x = []\n",
        "for i in range(n):\n",
        "  if y[i] <= 1-math.e**(-2):\n",
        "    x.append((np.log(y[i]*(math.e**2) + 1)))\n",
        "  else:\n",
        "    x.append((-1 * np.log(1-y[i])))\n",
        "plt.hist(x, bins=30, density=True,)\n",
        "plt.title(\"Histogram of 1000 X Samples\")\n",
        "plt.xlabel(\"x\")\n",
        "plt.ylabel('Frequency')"
      ]
    },
    {
      "cell_type": "markdown",
      "metadata": {
        "id": "UqMEV_6i9iU4"
      },
      "source": [
        "<hr><hr>\n",
        "\n",
        "## Question 3: Acceptance-Rejection (25 pts)\n",
        "\n",
        "Let the random variable $X$ have density\n",
        "$$f(x) = \\begin{cases} (5 x^4 + 4x^3 + 3x^2+1)/4  & \\text{ for } 0 \\leq x \\leq 1, \\\\\n",
        "0 & \\text{ otherwise. } \\end{cases}$$"
      ]
    },
    {
      "cell_type": "markdown",
      "metadata": {
        "id": "dNp6yFaQ9iU5"
      },
      "source": [
        "<hr>\n",
        "\n",
        "**(a)** Give an acceptance-rejection algorithm to generate samples of\n",
        "\t$X$.\n",
        "\n",
        "<hr>"
      ]
    },
    {
      "cell_type": "markdown",
      "metadata": {
        "id": "AKnYl0kLLd37"
      },
      "source": [
        "### Ans.\n"
      ]
    },
    {
      "cell_type": "markdown",
      "source": [
        "To perform acceptance-rejection algorithm, we need to find the max of our pdf.\n",
        "\n",
        "f(x)' = $(20x^3 + 12x^2 + 6x)/4$\n",
        "\n",
        "The derivative of f(x) is always positive on [0,1], so f(x) always increases. So x=1 is the max.\n",
        "\n",
        "f(1) = (5+4+3+1)/4 = 13/4\n",
        "\n",
        "So M = 13/4"
      ],
      "metadata": {
        "id": "ENWftc9N3paP"
      }
    },
    {
      "cell_type": "code",
      "execution_count": null,
      "metadata": {
        "id": "y1c8ExQxLdEB"
      },
      "outputs": [],
      "source": [
        "M = 13/4\n",
        "def generate_accept_reject_sample():\n",
        "    while True:\n",
        "        z1 = np.random.uniform(0,1)\n",
        "        z2 = M * np.random.uniform(0,1)\n",
        "        if z2 <= (5*z1**4 + 4*z1**3 + 3*z1**2 + 1)/4:\n",
        "            return z1"
      ]
    },
    {
      "cell_type": "code",
      "source": [
        "generate_accept_reject_sample()"
      ],
      "metadata": {
        "colab": {
          "base_uri": "https://localhost:8080/"
        },
        "id": "aZJYeU-R8dY6",
        "outputId": "9c4fc2e1-7f8d-4cbd-e1c5-e5030052fecb"
      },
      "execution_count": null,
      "outputs": [
        {
          "output_type": "execute_result",
          "data": {
            "text/plain": [
              "0.4957973687053817"
            ]
          },
          "metadata": {},
          "execution_count": 95
        }
      ]
    },
    {
      "cell_type": "markdown",
      "metadata": {
        "id": "96QbSXGn9iU8"
      },
      "source": [
        "<hr>\n",
        "\n",
        "**(b)** On average, how many samples from the uniform distribution over $[0, 1]$ would your acceptance-rejection algorithm need in order to generate one sample of $X$?\n",
        "\n",
        "<hr>"
      ]
    },
    {
      "cell_type": "markdown",
      "metadata": {
        "id": "w64tpH0bO_Hb"
      },
      "source": [
        "### Ans.\n"
      ]
    },
    {
      "cell_type": "code",
      "source": [
        "M = 13/4\n",
        "def generate_accept_reject_sample_gen():\n",
        "    count = 0\n",
        "    while True:\n",
        "        count+=1\n",
        "        z1 = np.random.uniform(0,1)\n",
        "        z2 = M * np.random.uniform(0,1)\n",
        "        if z2 <= (5*z1**4 + 4*z1**3 + 3*z1**2 + 1)/4:\n",
        "            return count\n",
        "avg = 0\n",
        "for i in range(10000):\n",
        "  avg += generate_accept_reject_sample_gen()\n",
        "print(round(avg/10000,2))"
      ],
      "metadata": {
        "colab": {
          "base_uri": "https://localhost:8080/"
        },
        "id": "ADE2WlmI_ven",
        "outputId": "3144b50f-0b4b-4a5e-b5e5-222cf75b0863"
      },
      "execution_count": null,
      "outputs": [
        {
          "output_type": "stream",
          "name": "stdout",
          "text": [
            "3.23\n"
          ]
        }
      ]
    },
    {
      "cell_type": "markdown",
      "metadata": {
        "id": "YudPqIiq9iU9"
      },
      "source": [
        "<hr>\n",
        "\n",
        "**(c)** Use your algorithm in (a) to generate 2,500 samples of $X$. Note that this will require more than 2500 uniform random variables.\n",
        "\n",
        "Plot a histogram of your sample   and compare it against the true pdf.\n",
        "\n",
        "<hr>"
      ]
    },
    {
      "cell_type": "code",
      "execution_count": null,
      "metadata": {
        "id": "7-qoF2L_LmIF",
        "colab": {
          "base_uri": "https://localhost:8080/",
          "height": 490
        },
        "outputId": "7040e96d-51e0-40f1-d3e7-61026fceb9e4"
      },
      "outputs": [
        {
          "output_type": "execute_result",
          "data": {
            "text/plain": [
              "Text(0, 0.5, 'Frequency')"
            ]
          },
          "metadata": {},
          "execution_count": 104
        },
        {
          "output_type": "display_data",
          "data": {
            "text/plain": [
              "<Figure size 640x480 with 1 Axes>"
            ],
            "image/png": "[encoded data removed]"
          },
          "metadata": {}
        }
      ],
      "source": [
        "samples = []\n",
        "for i in range(2500):\n",
        "  samples.append(generate_accept_reject_sample())\n",
        "plt.hist(samples, bins=20)\n",
        "plt.title(\"Histogram of 2500 X Samples\")\n",
        "plt.xlabel(\"x\")\n",
        "plt.ylabel('Frequency')"
      ]
    },
    {
      "cell_type": "markdown",
      "metadata": {
        "id": "zI57JDhK9iU_"
      },
      "source": [
        "<hr><hr>\n",
        "\n",
        "## Question 4: Generalized Acceptance-Rejection (30 pts)\n",
        "\n",
        "We want to generate a $\\mathcal{N}(0,1)$ rv $X$, with pdf\n",
        "$f(x) = \\frac{e^{-x^2/2}}{\\sqrt{2\\pi}} $,\n",
        "using generalized acceptance-rejection."
      ]
    },
    {
      "cell_type": "markdown",
      "metadata": {
        "id": "ycCxosPw9iVA"
      },
      "source": [
        "<hr>\n",
        "\n",
        "**(a)** First, suppose we choose the proposal distribution to be a $Laplace$ (i.e., two-sided Exponential) distribution, which has pdf $g(x) = e^{-|x|}/2$. Describe (and implement) an inversion algorithm to get samples from this distribution.\n",
        "\n",
        "<hr>"
      ]
    },
    {
      "cell_type": "markdown",
      "source": [
        "CDF $G(x)$:\n",
        "\n",
        "For $x < 0$:\n",
        "\n",
        "$$\n",
        "G(x) = \\int_{-\\infty}^{x} \\frac{1}{2} e^{t} \\, dt = \\frac{e^x}{2}\n",
        "$$\n",
        "\n",
        "For $x \\geq 0$:\n",
        "\n",
        "$$\n",
        "G(x) = \\int_{-\\infty}^{0} \\frac{1}{2} e^t \\, dt + \\int_{0}^{x} \\frac{1}{2} e^{-t} \\, dt\n",
        "= \\frac{1}{2} + \\frac{1}{2}(1 - e^{-x})\n",
        "= 1 - \\frac{e^{-x}}{2}\n",
        "$$\n"
      ],
      "metadata": {
        "id": "tobhsGU7P3ZG"
      }
    },
    {
      "cell_type": "markdown",
      "source": [
        "G(0) = 1-e^0/2 = 1/2, so the boundary is 1/2.\n",
        "\n",
        "If y<1/2:\n",
        "\n",
        "y = $e^x/2$ -> x = ln(2y)\n",
        "\n",
        "If y>=1/2:\n",
        "\n",
        "y = 1 - $e^x / 2$ -> x = -ln(2-2y)"
      ],
      "metadata": {
        "id": "Zi2M3FYtP_6D"
      }
    },
    {
      "cell_type": "code",
      "execution_count": null,
      "metadata": {
        "id": "iUMdO2jTDC5n"
      },
      "outputs": [],
      "source": [
        "import math\n",
        "def generate_laplace_samples(n):\n",
        "  y = np.random.uniform(0,1,n)\n",
        "  x = []\n",
        "  for i in range(n):\n",
        "    if y[i] < 1/2:\n",
        "      x.append(np.log(2*y[i]))\n",
        "    else:\n",
        "      x.append(-1*np.log(2-2*y[i]))\n",
        "  return x"
      ]
    },
    {
      "cell_type": "code",
      "source": [
        "x = generate_laplace_samples(1000)\n",
        "plt.hist(x, bins=30, density=True,)\n",
        "plt.title(\"Histogram of Laplace Samples\")\n",
        "plt.xlabel(\"x\")\n",
        "plt.ylabel('Frequency')"
      ],
      "metadata": {
        "colab": {
          "base_uri": "https://localhost:8080/",
          "height": 490
        },
        "id": "pe7RVfCuTqH8",
        "outputId": "2ccc0896-e871-45b6-d00b-8c9ad02786ab"
      },
      "execution_count": null,
      "outputs": [
        {
          "output_type": "execute_result",
          "data": {
            "text/plain": [
              "Text(0, 0.5, 'Frequency')"
            ]
          },
          "metadata": {},
          "execution_count": 116
        },
        {
          "output_type": "display_data",
          "data": {
            "text/plain": [
              "<Figure size 640x480 with 1 Axes>"
            ],
            "image/png": "[encoded data removed]"
          },
          "metadata": {}
        }
      ]
    },
    {
      "cell_type": "markdown",
      "metadata": {
        "id": "w5uME6KO9iVB"
      },
      "source": [
        "<hr>\n",
        "\n",
        "**(b)** Determine the smallest $k$ such that $kg(x)\\geq f(x)\\,\\forall\\,x\\in\\mathbb{R}$. Using this, propose (and implement) an acceptance-rejection algorithm for sampling $X\\sim\\mathcal{N}(0,1)$, and compute the expected number of samples needed for generating each sample.\n",
        "\n",
        "<hr>"
      ]
    },
    {
      "cell_type": "markdown",
      "metadata": {
        "id": "4Y-Qm3x-PbmM"
      },
      "source": [
        "### Ans.\n",
        "\n",
        "$k \\geq f(x) / g(x)$\n",
        "\n",
        "$ = k \\geq \\frac{e^{-x^2/2}}{\\sqrt{2\\pi}} / e^{-|x|}/2$\n",
        "\n",
        "$ = \\frac{2}{\\sqrt 2\\pi} e^{-|x|-x^2/2}$\n",
        "\n",
        "This function is symmetrical and has a max at 0. Thus, the smallest value of k is the max of this function, which is approx 0.79788"
      ]
    },
    {
      "cell_type": "code",
      "source": [
        "def generate_normal_with_laplace():\n",
        "    M = 0.79788\n",
        "    while True:\n",
        "      u = np.random.uniform(0,1)\n",
        "      if u < 0.5:\n",
        "          y = np.log(2*u)\n",
        "      else:\n",
        "          y = -np.log(2*(1-u))\n",
        "\n",
        "      u2 = np.random.uniform()\n",
        "      f = (1/np.sqrt(2*np.pi)) * np.exp(-y**2 / 2)\n",
        "      g = 0.5 * np.exp(-abs(y))\n",
        "\n",
        "      if u2 <= f / (M * g):\n",
        "          return y\n",
        "\n",
        "def generate_normal_with_laplace_count():\n",
        "    M = 0.79788\n",
        "    count=0\n",
        "    while True:\n",
        "      count+=1\n",
        "      u = np.random.uniform(0,1)\n",
        "      if u < 0.5:\n",
        "          y = np.log(2*u)\n",
        "      else:\n",
        "          y = -np.log(2*(1-u))\n",
        "\n",
        "      u2 = np.random.uniform()\n",
        "      f = (1/np.sqrt(2*np.pi)) * np.exp(-y**2 / 2)\n",
        "      g = 0.5 * np.exp(-abs(y))\n",
        "\n",
        "      if u2 <= f / (M * g):\n",
        "          return count"
      ],
      "metadata": {
        "id": "eXEfJnyZXKye"
      },
      "execution_count": null,
      "outputs": []
    },
    {
      "cell_type": "code",
      "source": [
        "avg = 0\n",
        "for i in range(10000):\n",
        "  avg += generate_normal_with_laplace_count()\n",
        "print(\"Expected number of samples generated: \" + str(avg/10000))\n"
      ],
      "metadata": {
        "colab": {
          "base_uri": "https://localhost:8080/"
        },
        "id": "C_ssWf6XZM3q",
        "outputId": "92f6969a-df76-4e40-bd40-d2d0dfa8b4be"
      },
      "execution_count": null,
      "outputs": [
        {
          "output_type": "stream",
          "name": "stdout",
          "text": [
            "Expected number of samples generated: 1.0904\n"
          ]
        }
      ]
    },
    {
      "cell_type": "markdown",
      "metadata": {
        "id": "8Uoi08eu9iVD"
      },
      "source": [
        "<hr>\n",
        "\n",
        "**(c)** Generate $1000$ samples from your method in part (b), and plot the histogram of the samples. Also report the average and 95\\% CI for the number of $U[0,1]$ samples needed to generate the $1000$ samples.\n",
        "\n",
        "<hr>"
      ]
    },
    {
      "cell_type": "code",
      "execution_count": null,
      "metadata": {
        "id": "5qVDE0RTDMIZ"
      },
      "outputs": [],
      "source": [
        "samples = []\n",
        "count = []\n",
        "for i in range(1000):\n",
        "  samples.append(generate_normal_with_laplace())\n",
        "  count.append(generate_normal_with_laplace_count() * 2)"
      ]
    },
    {
      "cell_type": "code",
      "source": [
        "plt.hist(samples, bins=30, density=True,)\n",
        "plt.title(\"Histogram of Normal Dist via Laplace Dist Samples\")\n",
        "plt.xlabel(\"x\")\n",
        "plt.ylabel('Frequency')"
      ],
      "metadata": {
        "colab": {
          "base_uri": "https://localhost:8080/",
          "height": 490
        },
        "id": "IdHLx0FJZ9XE",
        "outputId": "415349a4-a71e-4084-9b76-0f0f3b60c97a"
      },
      "execution_count": null,
      "outputs": [
        {
          "output_type": "execute_result",
          "data": {
            "text/plain": [
              "Text(0, 0.5, 'Frequency')"
            ]
          },
          "metadata": {},
          "execution_count": 143
        },
        {
          "output_type": "display_data",
          "data": {
            "text/plain": [
              "<Figure size 640x480 with 1 Axes>"
            ],
            "image/png": "[encoded data removed]"
          },
          "metadata": {}
        }
      ]
    },
    {
      "cell_type": "code",
      "source": [
        "print('Mean Number of U[0,1] Used: ' + str(np.mean(count)))\n",
        "print(\"95% Confidence Interval: [\" + str(np.percentile(count, 2.5)) + ',' \\\n",
        "      + str(np.percentile(count, 97.5)) + ']')\n",
        "\n"
      ],
      "metadata": {
        "colab": {
          "base_uri": "https://localhost:8080/"
        },
        "id": "Ev7Pxa8Xak5C",
        "outputId": "be4905ed-9853-4de0-ffc7-052cb91d0604"
      },
      "execution_count": null,
      "outputs": [
        {
          "output_type": "stream",
          "name": "stdout",
          "text": [
            "Mean Number of U[0,1] Used: 2.2\n",
            "95% Confidence Interval: [2.0,4.0]\n"
          ]
        }
      ]
    },
    {
      "cell_type": "markdown",
      "metadata": {
        "id": "s7pvcQl7pgbx"
      },
      "source": [
        "<hr>\n",
        "\n",
        "**(d)** Now, suppose instead we choose the proposal distribution to be a Cauchy  distribution with pdf $g(x) = \\frac{1}{\\pi(1+x^2)}$. Describe and implement an inversion algorithm to get samples from this distribution, and plot the histogram of 1000 samples from this distribution.\n",
        "\n",
        "<hr>"
      ]
    },
    {
      "cell_type": "markdown",
      "source": [
        "The CDF for a Cauchy distribution is $G(x) = \\frac{1}{\\pi} arctan(x) + 1/2$.\n",
        "\n",
        "$Y = \\frac{1}{\\pi} arctan(x) + 1/2 -> x = tan(\\pi(y-0.5))$"
      ],
      "metadata": {
        "id": "qu4E6onOcJIx"
      }
    },
    {
      "cell_type": "code",
      "execution_count": null,
      "metadata": {
        "id": "XepRuz8MpqoG"
      },
      "outputs": [],
      "source": [
        "def generate_cauchy_samples(n):\n",
        "  y = np.random.uniform(0,1,n)\n",
        "  x = []\n",
        "  for i in range(n):\n",
        "    x.append(np.tan(np.pi * (y - 0.5)))\n",
        "  return x"
      ]
    },
    {
      "cell_type": "code",
      "source": [
        "x = generate_laplace_samples(1000)\n",
        "plt.hist(x, bins=30, density=True,)\n",
        "plt.title(\"Histogram of Cauchy Samples\")\n",
        "plt.xlabel(\"x\")\n",
        "plt.ylabel('Frequency')"
      ],
      "metadata": {
        "colab": {
          "base_uri": "https://localhost:8080/",
          "height": 490
        },
        "id": "nVXJDH1ndJ8-",
        "outputId": "312d48a3-f59c-426c-93a0-eb7dd37bfb84"
      },
      "execution_count": null,
      "outputs": [
        {
          "output_type": "execute_result",
          "data": {
            "text/plain": [
              "Text(0, 0.5, 'Frequency')"
            ]
          },
          "metadata": {},
          "execution_count": 148
        },
        {
          "output_type": "display_data",
          "data": {
            "text/plain": [
              "<Figure size 640x480 with 1 Axes>"
            ],
            "image/png": "[encoded data removed]"
          },
          "metadata": {}
        }
      ]
    },
    {
      "cell_type": "markdown",
      "metadata": {
        "id": "lC7VSz_n9iVF"
      },
      "source": [
        "<hr>\n",
        "\n",
        "**(e)** Repeat parts $(b)$ and $(c)$ for this proposal distribution.\n",
        "\n",
        "<hr>"
      ]
    },
    {
      "cell_type": "markdown",
      "metadata": {
        "id": "vFu541LlPzQ2"
      },
      "source": [
        "### Ans.\n",
        "\n",
        "$k \\geq f(x) / g(x)$\n",
        "\n",
        "$ = k \\geq \\frac{2}{\\sqrt 2\\pi} (1+x^2) e^{-x^2/2}$\n",
        "\n",
        "$ = \\sqrt{\\pi/2}(1+x^2)e^{-x^2/2}$\n",
        "\n",
        "$$\n",
        "derivative\n",
        "=\\sqrt{\\pi/2} ( 2x e^{-x^2/2} + (1+x^2)(-x) e^{-x^2/2} )\n",
        "= \\sqrt{\\pi/2} * x (1 - x^2) e^{-x^2/2}.\n",
        "$$\n",
        "\n",
        "When derivative = 0, x=0, 1, -1\n",
        "\n",
        "When x=0, our function equals $\\sqrt {\\pi/2}$\n",
        "\n",
        "When x = +-1, our function equals $\\sqrt {\\pi/2} * 2e^{-1/2}$\n",
        "\n",
        "Thus, the max and the k value is $\\sqrt {\\pi/2} * 2e^{-1/2}$ or about 1.52035"
      ]
    },
    {
      "cell_type": "code",
      "execution_count": null,
      "metadata": {
        "id": "uzJE8B1ZsWoV"
      },
      "outputs": [],
      "source": [
        "def generate_normal_with_cauchy():\n",
        "    M = 1.52035\n",
        "    while True:\n",
        "      u = np.random.uniform(0,1)\n",
        "      y = np.tan(np.pi * (u - 0.5))\n",
        "\n",
        "      u2 = np.random.uniform()\n",
        "      f = (1/np.sqrt(2*np.pi)) * np.exp(-y**2 / 2)\n",
        "      g = 1 / (np.pi * (1 + y**2))\n",
        "\n",
        "      if u2 <= f / (M * g):\n",
        "          return y\n",
        "\n",
        "def generate_normal_with_cauchy_count():\n",
        "    M = 1.52035\n",
        "    count = 0\n",
        "    while True:\n",
        "      count +=1\n",
        "      u = np.random.uniform(0,1)\n",
        "      y = np.tan(np.pi * (u - 0.5))\n",
        "\n",
        "      u2 = np.random.uniform()\n",
        "      f = (1/np.sqrt(2*np.pi)) * np.exp(-y**2 / 2)\n",
        "      g = 1 / (np.pi * (1 + y**2))\n",
        "\n",
        "      if u2 <= f / (M * g):\n",
        "          return count"
      ]
    },
    {
      "cell_type": "code",
      "source": [
        "avg = 0\n",
        "for i in range(10000):\n",
        "  avg += generate_normal_with_cauchy_count()\n",
        "print(\"Expected number of samples generated: \" + str(avg/10000))"
      ],
      "metadata": {
        "colab": {
          "base_uri": "https://localhost:8080/"
        },
        "id": "9WSvwKLzhbXf",
        "outputId": "dabda402-62cb-45c2-e9b8-8babce195cbf"
      },
      "execution_count": null,
      "outputs": [
        {
          "output_type": "stream",
          "name": "stdout",
          "text": [
            "Expected number of samples generated: 1.528\n"
          ]
        }
      ]
    },
    {
      "cell_type": "code",
      "source": [
        "samples = []\n",
        "count = []\n",
        "for i in range(1000):\n",
        "  samples.append(generate_normal_with_cauchy())\n",
        "  count.append(generate_normal_with_cauchy_count() * 2)"
      ],
      "metadata": {
        "id": "-s8hhTQ7he7D"
      },
      "execution_count": null,
      "outputs": []
    },
    {
      "cell_type": "code",
      "source": [
        "plt.hist(samples, bins=30, density=True,)\n",
        "plt.title(\"Histogram of Normal Dist via Cauchy Dist Samples\")\n",
        "plt.xlabel(\"x\")\n",
        "plt.ylabel('Frequency')"
      ],
      "metadata": {
        "colab": {
          "base_uri": "https://localhost:8080/",
          "height": 490
        },
        "id": "Wc9xoslJhySg",
        "outputId": "6a67e3a6-de8f-4462-8c60-3c1e840b889a"
      },
      "execution_count": null,
      "outputs": [
        {
          "output_type": "execute_result",
          "data": {
            "text/plain": [
              "Text(0, 0.5, 'Frequency')"
            ]
          },
          "metadata": {},
          "execution_count": 170
        },
        {
          "output_type": "display_data",
          "data": {
            "text/plain": [
              "<Figure size 640x480 with 1 Axes>"
            ],
            "image/png": "[encoded data removed]"
          },
          "metadata": {}
        }
      ]
    },
    {
      "cell_type": "code",
      "source": [
        "print('Mean Number of U[0,1] Used: ' + str(np.mean(count)))\n",
        "print(\"95% Confidence Interval: [\" + str(np.percentile(count, 2.5)) + ',' \\\n",
        "      + str(np.percentile(count, 97.5)) + ']')"
      ],
      "metadata": {
        "colab": {
          "base_uri": "https://localhost:8080/"
        },
        "id": "CqAUys9rh4Nv",
        "outputId": "203b43bb-74c9-4c0c-e0f5-e73daa984a46"
      },
      "execution_count": null,
      "outputs": [
        {
          "output_type": "stream",
          "name": "stdout",
          "text": [
            "Mean Number of U[0,1] Used: 3.028\n",
            "95% Confidence Interval: [2.0,8.0]\n"
          ]
        }
      ]
    },
    {
      "cell_type": "code",
      "source": [],
      "metadata": {
        "id": "LTlvDXH7h_Fi"
      },
      "execution_count": null,
      "outputs": []
    }
  ],
  "metadata": {
    "colab": {
      "provenance": []
    },
    "kernelspec": {
      "display_name": "Python 3 (ipykernel)",
      "language": "python",
      "name": "python3"
    },
    "language_info": {
      "codemirror_mode": {
        "name": "ipython",
        "version": 3
      },
      "file_extension": ".py",
      "mimetype": "text/x-python",
      "name": "python",
      "nbconvert_exporter": "python",
      "pygments_lexer": "ipython3",
      "version": "3.11.3"
    }
  },
  "nbformat": 4,
  "nbformat_minor": 0
}