{
 "cells": [
  {
   "cell_type": "markdown",
   "metadata": {
    "id": "MxoFPTTof33v"
   },
   "source": [
    "# ORIE 4580/5580/5581 Assignment 2\n",
    "\n",
    "#### Students: S. Ulam (su001) and J. von Neuman (jvn001)"
   ]
  },
  {
   "cell_type": "markdown",
   "metadata": {
    "id": "54CO0k9tgKAJ"
   },
   "source": [
    "### Instructions\n",
    "\n",
    "\n",
    "* Due Thursday September 11, at 11.59pm on Gradescope.\n",
    "* Assignment .ipynb files available for download on [Canvas](https://canvas.cornell.edu/courses/80773#:~:text=Assignments-,Assignments,-Assignments%20module%20publish).\n",
    "* Do all your work in provided notebook (text answers typeset in markdown; show all required code and generate plots inline), and then generate and submit a pdf.\n",
    "* Ideally do assignments in groups of 2, and submit a single pdf with both names\n",
    "* Please show your work and clearly mark your answers.\n",
    "* You can use any code fragments given in class, found online (for example, on StackOverflow), or generated via Gemini/Claude/ChatGPT (you are encouraged to use these for first drafts) **with proper referencing**.\n",
    "* You can also discuss with others (again, please reference them if you do so); but you must write your final answers on your own as a team.\n",
    "\n",
    "\n",
    "\n",
    "### Suggested reading\n",
    "\n",
    "Chapters 4 and 6 of [Introduction to Probability](https://chance.dartmouth.edu/teaching_aids/books_articles/probability_book/book.html) by Grinstead and Snell. You can skip things that seem more advanced, like the Beta distribution in $Ch\\, 4$ and the part on queueing in $Ch\\,6$ - the part about paradoxes in probability is also strictly speaking not required$\\ldots$(but I would never recommend *not* reading that!)"
   ]
  },
  {
   "cell_type": "code",
   "execution_count": 1,
   "metadata": {
    "id": "sNVb3XlKf33w"
   },
   "outputs": [],
   "source": [
    "#importing necessary packages\n",
    "import numpy as np\n",
    "import matplotlib.pyplot as plt\n",
    "%matplotlib inline"
   ]
  },
  {
   "cell_type": "markdown",
   "metadata": {
    "id": "38gB5Cyrg6n1"
   },
   "source": [
    "**Note: I used chatgpt to help format all markdown text cells to look good. None of my text was edited by chatgpt, I simply used it to put my work into latex.**"
   ]
  },
  {
   "cell_type": "markdown",
   "metadata": {
    "id": "cGCcGZKXn7F_"
   },
   "source": [
    "\n",
    "---\n",
    "\n",
    "---\n",
    "\n",
    "## Question 1: Practice with expectation and variance (25 pts)\n",
    "\n",
    "\n",
    "\n",
    "---\n",
    "\n",
    "\n",
    "**(a)** Given a coin which comes up *Heads* with probability $p$, let $N_p$ denote the number of times the coin is tossed until the first *Heads*. Argue that $$N_p = \\begin{cases} 1 & \\text{with probability } p\\\\ 1+\\tilde{N}_p & \\text{with probability } 1-p \\end{cases}$$\n",
    "where $\\tilde{N}_p$ is an independent random variable with the same distribution as $N_p$.\n",
    "Using this, show that $\\mathbb{E}[N_p] = 1/p$. Also use a similar argument to find $Var(N_p)$.\n",
    "\n",
    "*Note: The rv $N_p$ is said to be a Geometric$(p)$ rv; it has pmf $p(k) = (1-p)^{k-1}p$.*\n",
    "\n",
    "\n",
    "\n",
    "---\n",
    "\n"
   ]
  },
  {
   "cell_type": "markdown",
   "metadata": {
    "id": "jtpKXrGeoqTV"
   },
   "source": [
    "### Ans.\n"
   ]
  },
  {
   "cell_type": "markdown",
   "metadata": {
    "id": "bTdSmq27mYdn"
   },
   "source": [
    "This PMF represents $N_p$ because while flipping the first coin, you naturally have a probability of P to land on heads, and that would mean you flipped 1 coin to get a heads so your count is 1. However, if you flip a tails with probability 1-p, you have to flip another coin with the same set of outcomes. You either land on heads with probability p and stop or land on tails with probability 1-p and keep going. Thus, your number of flips is 1+$\\tilde{N}_p$, since you flipped 1 coin and must repeat."
   ]
  },
  {
   "cell_type": "markdown",
   "metadata": {
    "id": "mWOiTEq2fRUo"
   },
   "source": [
    "$$\n",
    "E[N_p] = p \\cdot 1 + (1-p) \\cdot (1 + E[N_p])\n",
    "$$\n",
    "\n",
    "$$\n",
    "E[N_p] = p + (1-p) + (1-p) E[N_p]\n",
    "$$\n",
    "\n",
    "$$\n",
    "E[N_p] = 1 + E[N_p] - p E[N_p]\n",
    "$$\n",
    "\n",
    "$$\n",
    "p E[N_p] = 1\n",
    "$$\n",
    "\n",
    "$$\n",
    "E[N_p] = \\frac{1}{p}\n",
    "$$\n"
   ]
  },
  {
   "cell_type": "markdown",
   "metadata": {
    "id": "ca-O1iNzfpEs"
   },
   "source": [
    "By the law of total variance,\n",
    "\n",
    "$Var[N_p] = E[Var[N_p \\mid F]] + Var[E[N_p \\mid F]]$\n",
    "\n",
    "where $F$ is the result of the first flip.\n",
    "\n",
    "$Var[N_p \\mid \\text{Heads}] = 0$,  \n",
    "$Var[N_p \\mid \\text{Tails}] = Var[\\tilde{N}_p] = Var[N_p]$\n",
    "\n",
    "$E[N_p \\mid \\text{Heads}] = 1$,  \n",
    "$E[N_p \\mid \\text{Tails}] = 1 + E[N_p]$\n",
    "\n",
    "Thus, $E[N_p \\mid \\text{First Flip}]$ is a random variable that gives $1$ with probability $p$ and $1 + E[N_p]$ with probability $1-p$. Let us denote this random variable by $F$.\n",
    "\n",
    "$E[Var[N_p \\mid F]] = p \\cdot 0 + (1-p) \\cdot Var[N_p] = (1-p) Var[N_p]$\n",
    "\n",
    "$Var[E[N_p \\mid \\text{First Flip}]] = Var[F] = E[F^2] - (E[F])^2$\n",
    "\n",
    "By the variance formula for a 2-point distribution:\n",
    "\n",
    "$Var[F] = p(1-p)(a-b)^2 = p(1-p)(1 - (1 + E[N_p]))^2 = p(1-p)(E[N_p])^2 = p(1-p)\\left(\\frac{1}{p}\\right)^2$\n",
    "\n",
    "Thus,\n",
    "\n",
    "$Var[E[N_p \\mid \\text{First Flip}]] = \\frac{1-p}{p}$\n",
    "\n",
    "Finally, by the law of total variance:\n",
    "\n",
    "$Var[N_p] = (1-p) Var[N_p] + \\frac{1-p}{p}$\n",
    "\n",
    "Solving for $Var[N_p]$:\n",
    "\n",
    "$(1 - (1-p)) Var[N_p] = \\frac{1-p}{p}$\n",
    "\n",
    "$Var[N_p] = \\frac{1-p}{p^2}$\n"
   ]
  },
  {
   "cell_type": "markdown",
   "metadata": {
    "id": "UqZYCOzjMCat"
   },
   "source": [
    "___\n",
    "\n",
    "**(b)** In the previous assignment you estimated $\\pi$ by sampling uniform random points $(X,Y)$ in $[-1,1]\\times[-1,1]$, and checking if they fell within the circle. Suppose instead you sampled $n$ points uniformly in $[0,1]\\times[0,1]$ and checked if $X^2+Y^2\\leq 1$. Let $N_c$ be the number of points satisfying this; what is $\\mathbb{E}[N_c]$ and $\\text{Var}(N_c)$? Can you use this to get a better estimate of $\\pi$ (i.e., with tighter confidence intervals given the same number of samples $n$)?\n",
    "\n",
    "___"
   ]
  },
  {
   "cell_type": "markdown",
   "metadata": {
    "id": "WeZA2DkzNQcE"
   },
   "source": [
    "### Ans.\n"
   ]
  },
  {
   "cell_type": "markdown",
   "metadata": {
    "id": "cSCKoM7Uf0-A"
   },
   "source": [
    "Let $I_j$ be an indicator variable for point $j$ that is $1$ if $X^2 + Y^2 \\leq 1$.\n",
    "\n",
    "$N_c = \\sum_{j=1}^{n} I_j$\n",
    "\n",
    "Since each $I_j$ is a Bernoulli random variable with probability $p = \\pi/4$, $N_c$ is Binomial$(n,p)$.\n",
    "\n",
    "$E[N_c] = n p = n \\cdot \\pi/4$\n",
    "\n",
    "$Var[N_c] = n p (1-p) = n \\cdot \\pi/4 \\cdot (1 - \\pi/4) = n \\cdot \\pi/4 \\cdot 3\\pi/4$\n",
    "\n",
    "Our estimate for $\\pi$ is  \n",
    "\n",
    "$\\pi^* = \\frac{4 N_c}{n}$\n",
    "\n",
    "$E[\\pi^*] = 4 \\cdot \\frac{E[N_c]}{n} = 4 \\cdot \\frac{n \\cdot (\\pi/4)}{n} = \\pi$\n",
    "\n",
    "$Var[\\pi^*] = \\left(\\frac{4}{n}\\right)^2 Var[N_c] = \\left(\\frac{4}{n}\\right)^2 \\cdot n p (1-p)$\n",
    "\n",
    "$= \\frac{16}{n} \\cdot p (1-p) = \\frac{16}{n} \\cdot \\pi/4 \\cdot 3\\pi/4$\n",
    "\n",
    "$= \\frac{4\\pi - \\pi^2}{n}$\n",
    "\n",
    "$SE(\\pi^*) = \\sqrt{\\frac{4\\pi - \\pi^2}{n}} = \\sqrt{\\frac{2.6967}{n}}$\n",
    "\n",
    "A 95\\% confidence interval for $\\pi^*$:\n",
    "\n",
    "$CI(\\pi^*) = \\pi^* \\pm 1.96 \\cdot SE(\\pi^*) = \\pi^* \\pm \\frac{2.64}{\\sqrt{n}}$\n"
   ]
  },
  {
   "cell_type": "markdown",
   "metadata": {
    "id": "2hirEfe5Zr1b"
   },
   "source": [
    "This confidence interval is no better than the confidence interval found in the previous homework, as it uses a binomial rv to estimate pi in the same way, though with a different initial approach."
   ]
  },
  {
   "cell_type": "markdown",
   "metadata": {
    "id": "U25Qyhy3pL0J"
   },
   "source": [
    "---\n",
    "**(c)** The elevators in Rhodes Hall stop at $6$ floors. Suppose one morning you get in on the ground floor with $3$ other people, and each one of you wants to go to a floor in $\\{2,3,4,5,6\\}$ chosen uniformly at random, and independently of the others' choices. At how many floors will the elevator stop on average?\n",
    "\n",
    "\n",
    "---"
   ]
  },
  {
   "cell_type": "markdown",
   "metadata": {
    "id": "KRd2JKsBpa2W"
   },
   "source": [
    "### Ans.\n",
    "\n"
   ]
  },
  {
   "cell_type": "markdown",
   "metadata": {
    "id": "LxJc97B8JrF8"
   },
   "source": [
    "Let $I_j$ be an indicator variable for each destination floor $j$ that is $1$ if at least 1 of the 4 people wants to go to floor $j$.\n",
    "\n",
    "The number of elevator stops is  \n",
    "\n",
    "$S = \\sum_{j=1}^{5} I_j$\n",
    "\n",
    "Then,\n",
    "\n",
    "$E[S] = \\sum_{j=1}^{5} E[I_j]$\n",
    "\n",
    "Since all the floors have identical probability of being chosen:\n",
    "\n",
    "$E[S] = 5 \\cdot P(\\text{a floor is chosen by at least 1 person})$\n",
    "\n",
    "$E[S] = 5 \\cdot \\left( 1 - \\left(\\frac{4}{5}\\right)^4 \\right) = 2.952$\n"
   ]
  },
  {
   "cell_type": "markdown",
   "metadata": {
    "id": "vnBeLBSSpmsF"
   },
   "source": [
    "---\n",
    "\n",
    "(d) For your next simulation homework, you pair up with a student you have not met before. At some point, you get bored of the homework, and decide to count how many common friends you have at Cornell. Suppose the total number of students at Cornell is $22,000$, out of which you have $500$ friends, and your homework partner has $440$. Assuming that for both of you, your friends form independent and uniform random samplings of the total student population, what is the expected number of friends you both have in common?\n",
    "\n",
    "---"
   ]
  },
  {
   "cell_type": "markdown",
   "metadata": {
    "id": "spdv-KpipzKE"
   },
   "source": [
    "### Ans.\n",
    "\n"
   ]
  },
  {
   "cell_type": "markdown",
   "metadata": {
    "id": "rpagets0NdMv"
   },
   "source": [
    "Let $I_j$ be an indicator variable for each of my friends $j$ that is $1$ if they are also friends with my partner.\n",
    "\n",
    "$P(I_j = 1) = \\frac{440}{22000}$\n",
    "\n",
    "The expected number of common friends is  \n",
    "\n",
    "$E[\\text{Common Friends}] = \\sum_{j=1}^{500} E[I_j] = 500 \\cdot \\frac{440}{22000}$\n",
    "\n",
    "$E[\\text{Common Friends}] = 10$\n"
   ]
  },
  {
   "cell_type": "markdown",
   "metadata": {
    "id": "qmO0bQhef33x"
   },
   "source": [
    "___\n",
    "___\n",
    "\n",
    "## Question 2: Pooled Testing (30 pts) ##\n",
    "\n",
    "\n",
    "In 2020 Fall, Cornell adopted pooled testing to test a large population with a limited number of Covid tests. In pooled testing a sample is taken from each person and split into two subsamples. The first subsample from each person is pooled with those of $n-1$ other people into a single pooled sample of size $n$ people. (Cornell eventually used $n=5$.) If the pooled test comes back negative, then we declare all $n$ people in the pool to be\n",
    "negative. If the pooled test comes back positive, we then individually test the second subsample from every person in the pool. In this question we'll explore the effects of different pool sizes $n$.\n",
    "\n",
    "---\n",
    "\n",
    "**(a)** The *prevalence* $p$ at the time of testing is defined to be the true fraction of people with Covid in the population. Now let $N$ be the number of (true) Covid-positive people in a pool of size $n$. What would you use as a model for the distribution of $N$, if you knew the $n$ people in the pool $(i)$ had never met each other in the last week, and $(ii)$ all lived in the same house. In each case, what is the mean and variance of $N$?\n",
    "\n",
    "---"
   ]
  },
  {
   "cell_type": "markdown",
   "metadata": {
    "id": "F2kHkbTdrBIT"
   },
   "source": [
    "### Ans.\n",
    "\n"
   ]
  },
  {
   "cell_type": "markdown",
   "metadata": {
    "id": "QFUudiJTQyQS"
   },
   "source": [
    "**i) Never met each other last week**\n",
    "\n",
    "If each person did not meet each other, the individual probability they have COVID is Bernoulli(p). Thus, together, the number of total COVID positives is Binomial(n,p). Thus, mean = np and variance = np(1-p)\n",
    "\n",
    "**ii) All lived in the same house**\n",
    "\n",
    "If all people lived in the same house together, their individual probability of COVID is still Bernoulli(p) but are correlated. The mean = np still, but the variance is different since there is correlation, which we will denote to be Z for each pair of people. Thus, each pair of people has covariance of Zp(1-p). Since the variance = sum var + 2 sum covar, we get variance = np(1-p)+n(n-1)(Zp(1-p)) = np(1-p)(1+(n-1)Z)."
   ]
  },
  {
   "cell_type": "markdown",
   "metadata": {
    "id": "mIEZB79KrP0I"
   },
   "source": [
    "___\n",
    "\n",
    "**(b)** Suppose that the test has no *false positives* and no *false negatives*; it comes back positive if **anyone** in the pool is positive and comes back negative if all people in the pool are negative. Let $T$ be the number of tests you need to be *sure* of each persons status (i.e., if they are COVID positive or not). What is the distribution of $T$, and what is its mean and variance? Clearly state all assumptions you are making.\n",
    "\n",
    "---"
   ]
  },
  {
   "cell_type": "markdown",
   "metadata": {
    "id": "b5x-E30Ex9xK"
   },
   "source": [
    "### Ans.\n",
    "\n"
   ]
  },
  {
   "cell_type": "markdown",
   "metadata": {
    "id": "qyLRQRBxnP28"
   },
   "source": [
    "Each individual person having COVID can be represented by  \n",
    "\n",
    "$I_j \\sim \\text{Bernoulli}(p)$ for person $j$.\n",
    "\n",
    "If the whole pool is negative, we only run 1 test. If the pool is positive, we run $1 + n$ tests.  \n",
    "\n",
    "The distribution of the total number of tests $T$ is:\n",
    "\n",
    "$P(T = 1) = P(N = 0) = (1-p)^n$\n",
    "\n",
    "$P(T = 1+n) = 1 - (1-p)^n$\n",
    "\n",
    "The expected number of tests is:\n",
    "\n",
    "$E[T] = 1 \\cdot (1-p)^n + (1+n) \\cdot (1 - (1-p)^n)$\n",
    "\n",
    "$E[T] = (1+n) - n(1-p)^n$\n",
    "\n",
    "We can also write $T$ as\n",
    "\n",
    "$T = 1 + n \\cdot B$,\n",
    "\n",
    "where $B \\sim \\text{Bernoulli}(1 - (1-p)^n)$. Thus,\n",
    "\n",
    "$Var[T] = n^2 \\cdot Var(B) = n^2 \\cdot (1-p)^n \\cdot (1 - (1-p)^n)$\n"
   ]
  },
  {
   "cell_type": "markdown",
   "metadata": {
    "id": "lVudUJOOyV8l"
   },
   "source": [
    "___\n",
    "\n",
    "**(c)** What is the pool size $n$ that minimizes the average number of tests per person when the prevalence is $0.0001$? What about when prevalence is $0.01$? You should do this numerically using plots (i.e., without calculus), as this is helps explain your recommendation to decision-makers (note though that you may want to test different ranges of $n$ for each setting).\n",
    "\n",
    "---"
   ]
  },
  {
   "cell_type": "markdown",
   "metadata": {
    "id": "FlZqL3MPzO6a"
   },
   "source": [
    "### Ans.\n",
    "\n"
   ]
  },
  {
   "cell_type": "code",
   "execution_count": 2,
   "metadata": {
    "colab": {
     "base_uri": "https://localhost:8080/",
     "height": 507
    },
    "id": "SDwNaZFE_xIc",
    "outputId": "f9e20dea-9672-428c-a20a-ecc954cbc35b"
   },
   "outputs": [
    {
     "name": "stdout",
     "output_type": "stream",
     "text": [
      "Minimum Average Number of Tests Per Person: 0.019950656341507167\n",
      "Pool Size for Min Number of Tests Per Person: 101\n"
     ]
    },
    {
     "data": {
      "image/png": "[encoded data removed]",
      "text/plain": [
       "<Figure size 640x480 with 1 Axes>"
      ]
     },
     "metadata": {},
     "output_type": "display_data"
    }
   ],
   "source": [
    "p = 0.0001\n",
    "exp = []\n",
    "for n in np.arange(1,501):\n",
    "  exp.append((1+n)/n - (1-p)**n)\n",
    "\n",
    "plt.plot(exp)\n",
    "plt.title(\"Number of Tests Per Person Per Pool Size (p=0.0001)\")\n",
    "plt.xlabel(\"Pool Size\")\n",
    "plt.ylabel(\"Average Tests Per Person\")\n",
    "print(\"Minimum Average Number of Tests Per Person: \" + str( min(exp)))\n",
    "print(\"Pool Size for Min Number of Tests Per Person: \" + str(exp.index(min(exp))+1))"
   ]
  },
  {
   "cell_type": "code",
   "execution_count": 3,
   "metadata": {
    "colab": {
     "base_uri": "https://localhost:8080/",
     "height": 507
    },
    "id": "nWuGGOiavAIH",
    "outputId": "e5d0eb6b-4e75-469e-e2c0-49f9a5a77f1b"
   },
   "outputs": [
    {
     "name": "stdout",
     "output_type": "stream",
     "text": [
      "Minimum Average Number of Tests Per Person: 0.19557083665037445\n",
      "Pool Size for Min Number of Tests Per Person: 11\n"
     ]
    },
    {
     "data": {
      "image/png": "[encoded data removed]",
      "text/plain": [
       "<Figure size 640x480 with 1 Axes>"
      ]
     },
     "metadata": {},
     "output_type": "display_data"
    }
   ],
   "source": [
    "p = 0.01\n",
    "exp = []\n",
    "for n in np.arange(1,501):\n",
    "  exp.append((1+n)/n - (1-p)**n)\n",
    "\n",
    "plt.plot(exp)\n",
    "plt.title(\"Number of Tests Per Person Per Pool Size (p=0.01)\")\n",
    "plt.xlabel(\"Pool Size\")\n",
    "plt.ylabel(\"Average Tests Per Person\")\n",
    "print(\"Minimum Average Number of Tests Per Person: \" + str( min(exp)))\n",
    "print(\"Pool Size for Min Number of Tests Per Person: \" + str(exp.index(min(exp))+1))"
   ]
  },
  {
   "cell_type": "markdown",
   "metadata": {
    "id": "P_G3haZcpAfc"
   },
   "source": [
    "\n",
    "\n",
    "---\n",
    "\n",
    "*(d)* A more critical characteristic of pooled tests is the false negative rate, which is the probability that a test comes back negative when at least one person in the pool is Covid positive. False negatives are dangerous, because the person (or people) with Covid in the pool can infect others until Covid is otherwise detected or they become no longer infectious.\n",
    "\n",
    "You know that false negatives must be more likely when there is a low viral load in a sample. To understand how to model false negatives in PCR tests, you consult with your friend who is a biologist, who tells you that the viral load $V$ in a PCR sample is measured using something called the cycle threshold (CT) score of a PCR test, which is equivalent to $C = -\\log_2 V$. The viral load for a Covid-negative person is $V=0$. In a pooled sample of size $n$, each person contributes a fraction $1/n$ of the sample, and the resulting viral load has a total CT score of:\n",
    "$$-\\log_2 \\left(\\frac 1 n \\sum_{i=1}^n 2^{-C_i}\\right),$$\n",
    "where $C_1, C_2, \\ldots, C_n$ are the CT scores of each person in the pool. Finally, your friend recalls that probability $\\mathbb{P}[\\text{false positive test}|C]$ of a false negative in a single PCR test is well modeled either as\n",
    "$\\frac{1}{1 + \\exp(-10(C - 35))}$ or $\\frac{1}{1 + \\exp(10(C - 35))}$ (but he can not remember which one 🙁).\n",
    "\n",
    "Can you figure out what the correct model is?\n",
    "\n",
    "---\n",
    "\n"
   ]
  },
  {
   "cell_type": "markdown",
   "metadata": {
    "id": "b5GdqFCzsiTA"
   },
   "source": [
    "### Ans.\n",
    "\n",
    "The correct answer is the first equation $\\frac{1}{1 + \\exp(-10(C - 35))}$. When comparing the two models on a graph, one starts at 1 and dips to 0 around C=35, while the other does the opposite. Based on the description, false negatives are more likely when viral load is low, and cycle threshold C has an inverse relationship with viral load. Thus, Higher cycle threshold must give higher chance of false negative, making this equation the proper model."
   ]
  },
  {
   "cell_type": "markdown",
   "metadata": {
    "id": "-gl2YJrorGkf"
   },
   "source": [
    "\n",
    "\n",
    "---\n",
    "\n",
    "\n",
    "*(e)* You consult the epidemiology literature and find that the viral load for a Covid-positive person has been found from data to have a CT score $C$ that is well modeled via a *mixture of Gaussian* distribution as follows: with probability $0.40$, $C$ is $\\mathcal{N}(20, 3.5^2)$ (i.e., normally distributed with mean 20 and variance $3.5^2$); with probability $0.5$, $C$ is $\\mathcal{N}(30, 3^2)$, and otherwise,  $C$ is $\\mathcal{N}(34.78, 1.32^2)$.\n",
    "\n",
    "Use this data with the above model to estimate the probability of a false negative in a pooled test of size $n$ containing a single Covid-positive person as a function of $n$. You'll need to generate, say, $m$ replications of the pooled test at each value of $n$, where you should choose $m$ to ensure that your results are meaningful. Report your results as a graph with the false negative rate on the $y$-axis and the pool size $n$ ranging from 1 to 50 on the $x$-axis. Select your simulation runlength so that your estimates would be useful in practice (for example, estimates that are $\\pm$ 0.02 or so are sufficiently accurate).\n",
    "\n",
    "\n",
    "---\n"
   ]
  },
  {
   "cell_type": "markdown",
   "metadata": {
    "id": "7TgVoe_dseOb"
   },
   "source": [
    "### Ans.\n",
    "\n"
   ]
  },
  {
   "cell_type": "code",
   "execution_count": 4,
   "metadata": {
    "colab": {
     "base_uri": "https://localhost:8080/",
     "height": 489
    },
    "id": "9adPA-dB4lRV",
    "outputId": "992daf57-d1ac-48ab-a7be-970b2a07e8e0"
   },
   "outputs": [
    {
     "data": {
      "text/plain": [
       "Text(0.5, 1.0, 'False Negative Rate for Different Pool Sizes')"
      ]
     },
     "execution_count": 4,
     "metadata": {},
     "output_type": "execute_result"
    },
    {
     "data": {
      "image/png": "[encoded data removed]",
      "text/plain": [
       "<Figure size 640x480 with 1 Axes>"
      ]
     },
     "metadata": {},
     "output_type": "display_data"
    }
   ],
   "source": [
    "# I used assistance from chatgpt to understand how i could implement the mixture\n",
    "# of Gaussian distribution. That is how I learned about rng and how I could use\n",
    "# it to define the distribution.\n",
    "\n",
    "m = 5000\n",
    "p = [0.40, 0.50, 0.10]\n",
    "mean = [20.0, 30.0, 34.78]\n",
    "sd = [3.5, 3.0, 1.15]\n",
    "\n",
    "rates = []\n",
    "for n in np.arange(1, 51):\n",
    "  rng = np.random.default_rng()\n",
    "  comp = rng.choice(3, size=m, p=p)\n",
    "  C = np.zeros(m)\n",
    "  for k in range(3):\n",
    "    matchcomp = comp == k\n",
    "    C[matchcomp] = rng.normal(mean[k], sd[k], size=matchcomp.sum())\n",
    "  C_pooled = C + np.log2(n)\n",
    "  prob = 1 / (1 + np.exp(-10 * (C_pooled - 35)))\n",
    "  rates.append(prob.mean())\n",
    "\n",
    "plt.plot(np.arange(1, 51), rates, marker='o')\n",
    "plt.xlabel(\"Pool Size\")\n",
    "plt.ylabel(\"False Negative Probability\")\n",
    "plt.title(\"False Negative Rate for Different Pool Sizes\")"
   ]
  },
  {
   "cell_type": "markdown",
   "metadata": {
    "id": "l_IOsfDhf33y"
   },
   "source": [
    "## Question 3: Buffon and his magic needle (20 points)"
   ]
  },
  {
   "cell_type": "markdown",
   "metadata": {
    "id": "wyQBQHsERhuf"
   },
   "source": [
    "In the first class we saw Buffon's needle experiment in which we drop needles of length 1 on a floor of parallel lines that are equally spaced 1 unit apart. If we drop $n$ needles and $N_{cross}$ of them cross a line, then an estimate of $\\pi$ is $\\hat{\\pi}_n = 2n/N_{cross}$. We will now study how this works in practice (feel free to use the code provided in class)."
   ]
  },
  {
   "cell_type": "markdown",
   "metadata": {
    "id": "o5-ARlaCSEPy"
   },
   "source": [
    "\n",
    "---\n",
    "\n",
    "**(a)** For a range of values of $n$ between $10$ and $10,000$, perform $30$ replications of the Buffon needle experiment. For each value of $n$ you test, plot the average of the $30$ estimates $\\hat{\\pi}_n = 2n/N_{cross}$ and a 95\\% confidence interval for the expected value of $\\hat{\\pi}_n$. You should only be making one plot, with $n$ on the $x$-axis, and estimates and CIs on the $y$-axis.\n",
    "\n",
    "\n",
    "\n",
    "---\n",
    "\n"
   ]
  },
  {
   "cell_type": "markdown",
   "metadata": {
    "id": "JfPEcCaITWDS"
   },
   "source": [
    "### Ans."
   ]
  },
  {
   "cell_type": "code",
   "execution_count": 5,
   "metadata": {
    "id": "5bKOtz2CSDjB"
   },
   "outputs": [],
   "source": [
    "# Code from class\n",
    "def buffon(N,length,dist,num_lines = 2,seed=-1):\n",
    "    \"\"\"\n",
    "    Generates a design matrix with Gaussian basis functions\n",
    "\n",
    "    Parameters\n",
    "    ----------\n",
    "    N: number of throws\n",
    "    length: length of toothpick\n",
    "    dist: distance between lines\n",
    "    num_lines: number of lines (should be >=2)\n",
    "    seed: seed for random number generator; -1 for no seed\n",
    "\n",
    "    Returns\n",
    "    ----------\n",
    "    sim_data: list of length N with outputs of sims\n",
    "              each simulation output comprises:\n",
    "              (tuples) (x_1,y_1), (x_2,y_2) of toothpick endpoints\n",
    "              (int) number of line crossings\n",
    "\n",
    "    \"\"\"\n",
    "\n",
    "    # Setting seed for PRNG (using -1 for no seed)\n",
    "    if seed!=-1:\n",
    "      np.random.seed(seed)\n",
    "\n",
    "    # Generate random centers and angles of toothpicks\n",
    "    # np.random.rand() generates a U[0,1] random variable\n",
    "    xcent = 1+(num_lines-1)*np.random.rand(N)\n",
    "    ycent = 1+(num_lines-1)*np.random.rand(N)\n",
    "    theta = (np.pi/2.0)*np.random.rand(N)\n",
    "\n",
    "    # Count number of times each toothpick touches a line\n",
    "    crossed = (ycent - np.floor(ycent) - (length/2.0)*np.sin(theta) < 0).astype(int) + (ycent - np.floor(ycent) + (length/2.0)*np.sin(theta) > dist).astype(int)\n",
    "\n",
    "    # Return toothpick endpoints, number of times each toothpick crosses\n",
    "    sim_data  = list(zip(list(zip(xcent - (length/2.0)*np.cos(theta),ycent - (length/2.0)*np.sin(theta))),\n",
    "                     list(zip(xcent + (length/2.0)*np.cos(theta),ycent + (length/2.0)*np.sin(theta))),\n",
    "                     crossed))\n",
    "\n",
    "    return sim_data"
   ]
  },
  {
   "cell_type": "code",
   "execution_count": 6,
   "metadata": {
    "colab": {
     "base_uri": "https://localhost:8080/",
     "height": 581
    },
    "id": "qGbDAvqlF-DP",
    "outputId": "fd48e038-e460-4839-9440-dfa5c964944c"
   },
   "outputs": [
    {
     "data": {
      "text/plain": [
       "<matplotlib.legend.Legend at 0x7c7df8d84ce0>"
      ]
     },
     "execution_count": 6,
     "metadata": {},
     "output_type": "execute_result"
    },
    {
     "data": {
      "image/png": "[encoded data removed]",
      "text/plain": [
       "<Figure size 800x600 with 1 Axes>"
      ]
     },
     "metadata": {},
     "output_type": "display_data"
    }
   ],
   "source": [
    "# I used Chatgpt to learn how to include the error bars and line for the true\n",
    "# value of pi.\n",
    "\n",
    "#I used this range because going from 10 to 10000 did not run on my laptop.\n",
    "ran = 100*np.arange(1,100)\n",
    "\n",
    "avgnumcross = []\n",
    "ci_lower = []\n",
    "ci_upper = []\n",
    "\n",
    "for n in ran:\n",
    "  estimate = []\n",
    "  for i in range(30):\n",
    "    data = buffon(n,1,1,num_lines=5)\n",
    "    crossed = np.cumsum([data[j][2] for j in range(n)])\n",
    "    estimate.append(np.max(crossed))\n",
    "  mean_est = np.mean(2*n/estimate)\n",
    "  std_est = np.std(2*n/estimate)\n",
    "  ci = 1.96 * std_est / np.sqrt(30)\n",
    "\n",
    "  avgnumcross.append(mean_est)\n",
    "  ci_lower.append(mean_est - ci)\n",
    "  ci_upper.append(mean_est + ci)\n",
    "\n",
    "\n",
    "\n",
    "plt.figure(figsize=(8,6))\n",
    "plt.title(\"Average # of Crossing Needles + 95% CI for Pi Vs. # Needles Dropped\")\n",
    "plt.errorbar(ran, avgnumcross, yerr=[np.array(avgnumcross)-np.array(ci_lower),\\\n",
    "                                     np.array(ci_upper)-np.array(avgnumcross)],\\\n",
    "              fmt='o-', label = \"95% CI for Pi\")\n",
    "plt.axhline(np.pi, color='red', linestyle='--', label=\"True Pi\")\n",
    "plt.xlabel('Number of Needles Dropped')\n",
    "plt.ylabel('Average Number of Crossing Needles')\n",
    "plt.legend()"
   ]
  },
  {
   "cell_type": "markdown",
   "metadata": {
    "id": "CxV2yEmlSbkC"
   },
   "source": [
    "\n",
    "---\n",
    "\n",
    "**(b)** You may notice from your plot in part (a) that the estimator $\\hat{\\pi}_n$ has some *bias*, i.e., $\\mathbb{E}[\\hat{\\pi}_n] \\neq \\pi$ (this may be more apparent for small values of $n$). Pick a small value (say, $n=100$), and do more replications (i.e., do multiple experiments, where in each experiment you throw $100$ needles), and determine if $\\hat{\\pi}_n$ is an overestimate or underestimate for $\\pi$.\n",
    "\n",
    "\n",
    "---\n"
   ]
  },
  {
   "cell_type": "markdown",
   "metadata": {
    "id": "uFSg1RRwTUfb"
   },
   "source": [
    "### Ans."
   ]
  },
  {
   "cell_type": "code",
   "execution_count": 7,
   "metadata": {
    "colab": {
     "base_uri": "https://localhost:8080/"
    },
    "id": "oWMHDHynTTuD",
    "outputId": "d3e0de71-bb90-4ade-b19a-ab724f31e2ed"
   },
   "outputs": [
    {
     "name": "stdout",
     "output_type": "stream",
     "text": [
      "Estimate for pi when n=100: 3.141711943971966\n",
      "95% Confidence Interval: 3.1313025816347158-3.152121306309216\n"
     ]
    }
   ],
   "source": [
    "n = 100000\n",
    "estimate = []\n",
    "for i in range(100):\n",
    "  data = buffon(n,1,1,num_lines=5)\n",
    "  crossed = np.cumsum([data[j][2] for j in range(n)])\n",
    "  estimate.append(np.max(crossed))\n",
    "mean_est = 2*n / np.mean(estimate)\n",
    "ci = 1.96 * std_est / np.sqrt(30)\n",
    "ci_lower = mean_est - ci\n",
    "ci_upper = mean_est + ci\n",
    "print(\"Estimate for pi when n=100: \" + str(mean_est))\n",
    "print(\"95% Confidence Interval: \" + str(ci_lower) + \"-\" + str(ci_upper))"
   ]
  },
  {
   "cell_type": "markdown",
   "metadata": {
    "id": "uIIjVNdEV1PC"
   },
   "source": [
    "After running this test a few times, it appears dropping 100 needles results in an overapproximation for pi."
   ]
  },
  {
   "cell_type": "markdown",
   "metadata": {
    "id": "HU-lR4mMTe7Z"
   },
   "source": [
    "**(c)** Can you mathematically justify your observation from part (b)?"
   ]
  },
  {
   "cell_type": "markdown",
   "metadata": {
    "id": "YgNPNKKkTl8p"
   },
   "source": [
    "### Ans.\n",
    "\n",
    "**I used chatgpt to help determine how to go from our estimator for pi to an inequality.**\n",
    "\n",
    "The probability a needle crosses a line is $2/\\pi$.\n",
    "\n",
    "If $X \\sim \\text{Binomial}(n, 2/\\pi)$, then $E[X] = 2n/\\pi$.\n",
    "\n",
    "Our estimator for $\\pi$ is  \n",
    "\n",
    "$\\pi^* = \\frac{2n}{X}$.\n",
    "\n",
    "Then, by Jensen's inequality:\n",
    "\n",
    "$E[\\pi^*] = 2n \\cdot E\\left[\\frac{1}{X}\\right] > \\frac{2n}{E[X]} = \\frac{2n}{2n/\\pi} = \\pi$\n",
    "\n",
    "Thus, $E[\\pi^*] > \\pi$.\n"
   ]
  },
  {
   "cell_type": "markdown",
   "metadata": {
    "id": "RIFfuf3eTn1j"
   },
   "source": [
    "**(d)** Note however that you can still use Buffon's experiment to get an estimate with $95$\\% confidence intervals for $\\mathbb{E}[\\frac{N_{\\text{cross}}}{n}]$. Using this, can you get a $95$\\% confidence interval for $\\pi$? (Note: this need not be symmetric about $\\pi$)."
   ]
  },
  {
   "cell_type": "markdown",
   "metadata": {
    "id": "nvNTxd05UY-T"
   },
   "source": [
    "### Ans.\n",
    "\n",
    "Let $N_{cross} / n = p$ be the percentage of needles that cross a line. Note that $\\pi^* = 2/p$.\n",
    "\n",
    "A 95\\% confidence interval for $p$ is:\n",
    "\n",
    "$p_{\\bar{}} \\pm 1.96 \\cdot \\frac{s_p}{\\sqrt{m}}$  \n",
    "\n",
    "where $m$ is the number of trials.\n",
    "\n",
    "Using this and our equation for $\\pi^*$, we can get a confidence interval for $\\pi^*$:\n",
    "\n",
    "$CI_{\\pi^*} = \\left( \\frac{2}{U}, \\frac{2}{L} \\right)$\n",
    "\n",
    "where $U$ and $L$ are the upper and lower bounds of the 95\\% CI for $p$.\n"
   ]
  },
  {
   "cell_type": "markdown",
   "metadata": {
    "id": "1YzsdFSPUatj"
   },
   "source": [
    "**(e) (Optional for everyone!)** Try to convince yourself (by linearity of expectation), that\n",
    "\n",
    "(i) If you randomly throw $n$ matches of length $\\ell$ and let $N^{\\ell}_{\\text{cross}}$ be a count of how many times these cross the lines, then $\\frac{\\mathbb{E}[N^{\\ell}_{\\text{cross}}]}{\\ell} = $ constant (in other words, the expected number of crossings is proportional to $\\ell$). Note: if $\\ell>1$, each match may cross multiple lines.\n",
    "\n",
    "(ii) The above result remains true if you throw *any* line segment (with any shape) of length $\\ell$. Using this, can you see an easy way to compute $\\mathbb{E}[N^{1}_{\\text{cross}}]$ (i.e., the probability of a match crossing a line in the original experiment)?"
   ]
  },
  {
   "cell_type": "markdown",
   "metadata": {
    "id": "4McZkHwYf33z"
   },
   "source": [
    "## Question 4: Overbooking (25 points)\n",
    "\n",
    "A website called Tixmaster is in charge of selling tickets for an upcoming Taylor Swift concert in Ithaca. The concert will take place in the State Theater, which has an official capacity of $1500$ seats. You believe however that Tixmaster has sold $1600$ tickets (representatives of the company, when contacted, denied this$\\ldots$).\n",
    "\n",
    "The show starts at 7pm, and if a ticket holder hasn't shown up by that time, then they are not allowed to enter anymore so as to not disturb the other attendees. From experience, you believe that there is a 95\\% chance that someone who has bought a ticket actually shows up by 7pm. and that people show up (or not) independently from one another."
   ]
  },
  {
   "cell_type": "markdown",
   "metadata": {
    "id": "Z3BowWcMz8Iw"
   },
   "source": [
    "\n",
    "\n",
    "---\n",
    "\n",
    "**(a)** You wait inside the State Theater and count the number of people entering. What is the probability that you will be able to prove that Tixmaster is overbooking? (You can do this with or without simulation)\n",
    "\n",
    "\n",
    "---"
   ]
  },
  {
   "cell_type": "markdown",
   "metadata": {
    "id": "DmaSH5iZ0zH-"
   },
   "source": [
    "### Ans."
   ]
  },
  {
   "cell_type": "markdown",
   "metadata": {
    "id": "YaoopBuV98hz"
   },
   "source": [
    "Let the number of people that show up by 7pm be  \n",
    "\n",
    "$B \\sim \\text{Binomial}(1600, 0.95)$.\n",
    "\n",
    "We want to find  \n",
    "\n",
    "$P(B > 1500) = 1 - P(B \\leq 1500)$.\n"
   ]
  },
  {
   "cell_type": "code",
   "execution_count": 8,
   "metadata": {
    "colab": {
     "base_uri": "https://localhost:8080/"
    },
    "id": "mdLv1stZ_ZEV",
    "outputId": "67926e3e-cb68-41b3-82c6-e6c8c88eaf75"
   },
   "outputs": [
    {
     "name": "stdout",
     "output_type": "stream",
     "text": [
      "Probability to Prove Overbooking: 0.9852\n"
     ]
    }
   ],
   "source": [
    "import math\n",
    "\n",
    "sum = 0\n",
    "for i in np.arange(1501,1600):\n",
    "  sum += math.comb(1600, i) * 0.95**i * 0.05**(1600-i)\n",
    "\n",
    "print(\"Probability to Prove Overbooking: \" + str(round(sum,4)))"
   ]
  },
  {
   "cell_type": "markdown",
   "metadata": {
    "id": "BS10dJ10f33z"
   },
   "source": [
    "**(b)** You manage to catch Tixmaster overbooking this time, and to prevent it in future, you decide to impose a fine to try and disincentivize overbooking. You know Tixmaster earns 100 in profit for every ticket sold (whether the holder shows up or not). You again have an agent counting how many people show up to the concert by $7$pm (you can not see how many are late or no-shows), and can charge Tixmaster a fine of 500 for each person exceeding the capacity.\n",
    "\n",
    "Use a simulation to estimate how many extra tickets (over 1600) Tixmaster will sell, if they are trying to maximize their expected profit (after paying any fines)."
   ]
  },
  {
   "cell_type": "markdown",
   "metadata": {
    "id": "mNoymDoVOMiB"
   },
   "source": [
    "### Ans."
   ]
  },
  {
   "cell_type": "code",
   "execution_count": 9,
   "metadata": {
    "colab": {
     "base_uri": "https://localhost:8080/"
    },
    "id": "rByke8DICT0Z",
    "outputId": "dbdbd540-f141-4276-df09-765730bd02a1"
   },
   "outputs": [
    {
     "name": "stdout",
     "output_type": "stream",
     "text": [
      "Optimal number of tickets: 1571\n",
      "Optimal profit: 156685.93252705282\n",
      "Tickets over 1600: -29\n"
     ]
    }
   ],
   "source": [
    "np.random.seed(228)\n",
    "n = 5000\n",
    "\n",
    "eprofits = []\n",
    "for n in np.arange(1500, 1700):\n",
    "    # simulate number of attendees\n",
    "    attendees = np.random.binomial(n, 0.95, size=n)\n",
    "    # compute profit\n",
    "    profits = 100 * n - 500 * np.maximum(attendees - 1500, 0)\n",
    "    eprofits.append(np.mean(profits))\n",
    "\n",
    "opttickets = np.arange(1500, 1700)[np.argmax(eprofits)]\n",
    "optprofit = eprofits[np.argmax(eprofits)]\n",
    "\n",
    "print(\"Optimal number of tickets: \" + str(opttickets))\n",
    "print(\"Optimal profit: \" + str(optprofit))\n",
    "print(\"Tickets over 1600: \" + str(np.argmax(eprofits)-100))\n"
   ]
  },
  {
   "cell_type": "markdown",
   "metadata": {
    "id": "8c1LKlyBf33z"
   },
   "source": [
    "\n",
    "\n",
    "---\n",
    "\n",
    "\n",
    "\n",
    "**(c) (For 5580/5581 students; optional for 4580)** Finally, you decide to stamp down on any overbooking by setting a large enough penalty so that Tixmaster does not find it profitable to sell even one extra ticket. Use simulation to find a fee $F$ charged per person over $1600$ admitted to the theater, such that it stops overbooking for each person who book after the number tickets sold exceed the capacity. (Ideally, try to propose as small an $F$ as possible, so that the city government feels it is practical to implement).\n",
    "\n",
    "*(Note: This sort of a problem where you want to optimize a parameter via simulation is difficult. We will see some ways to do this more efficiently later in class; however, for this problem, it is easy to do a search over potential values of $F$ to find the first time that overbooking by even $1$ ticket becomes unprofitable.)*\n",
    "\n",
    "\n",
    "---\n",
    "\n"
   ]
  },
  {
   "cell_type": "markdown",
   "metadata": {
    "id": "rN21bzkORLVg"
   },
   "source": [
    "### Ans."
   ]
  },
  {
   "cell_type": "code",
   "execution_count": 9,
   "metadata": {
    "id": "2M5NJnUCf33z"
   },
   "outputs": [],
   "source": []
  }
 ],
 "metadata": {
  "colab": {
   "provenance": []
  },
  "kernelspec": {
   "display_name": "Python 3 (ipykernel)",
   "language": "python",
   "name": "python3"
  },
  "language_info": {
   "codemirror_mode": {
    "name": "ipython",
    "version": 3
   },
   "file_extension": ".py",
   "mimetype": "text/x-python",
   "name": "python",
   "nbconvert_exporter": "python",
   "pygments_lexer": "ipython3",
   "version": "3.9.12"
  }
 },
 "nbformat": 4,
 "nbformat_minor": 1
}
